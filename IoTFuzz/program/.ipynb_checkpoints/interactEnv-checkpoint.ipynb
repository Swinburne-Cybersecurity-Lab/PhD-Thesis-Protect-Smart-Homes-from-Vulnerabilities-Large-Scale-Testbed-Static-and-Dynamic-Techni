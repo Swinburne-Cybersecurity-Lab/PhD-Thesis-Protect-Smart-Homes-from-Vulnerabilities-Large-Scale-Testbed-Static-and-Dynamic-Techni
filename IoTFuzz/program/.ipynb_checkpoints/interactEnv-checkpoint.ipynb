{
 "cells": [
  {
   "cell_type": "code",
   "execution_count": 1,
   "id": "5637d2a8",
   "metadata": {},
   "outputs": [],
   "source": [
    "import sys\n",
    "import time\n",
    "import os\n",
    "os.chdir(\"digital_twin\") \n",
    "import Environment_Class as env\n",
    "import NoGuide_Class as no_gui\n",
    "import configure_inputs\n",
    "import utility\n",
    "import NoGuide_Class as no_gui\n",
    "import configure_inputs\n",
    "\n",
    "import matlab.engine\n",
    "import matplotlib.pyplot as plt\n",
    "import os\n",
    "import sys\n",
    "import time\n",
    "import numpy as np\n",
    "import save_simulation_results as ssr\n",
    "import random"
   ]
  },
  {
   "cell_type": "code",
   "execution_count": 33,
   "id": "1f9b90cf",
   "metadata": {},
   "outputs": [],
   "source": [
    "import configure_guide"
   ]
  },
  {
   "cell_type": "code",
   "execution_count": 36,
   "id": "2bb46239",
   "metadata": {},
   "outputs": [],
   "source": [
    "# Read data from config\n",
    "config = configure_inputs.read_para() \n",
    "# pairConfig = configure_guide.read_para(\"../guide_save_pair.ini\") \n",
    "blockConfig = configure_guide.read_para(\"../blockName.ini\") \n",
    "\n",
    "\n",
    "limit_time = config[\"simulation\"][\"limit_time\"] \n",
    "print_details = config[\"program_configs\"][\"print_details\"] \n",
    "\n",
    "\n",
    "resultPath = config[\"simulation\"][\"result_path_no_guide\"] \n",
    "#The name of the Simulink Model (To be placed in the same directory as the Python Code) \n",
    "modelName = config[\"simulation\"][\"model_name_no_guide\"] \n",
    "simu_circle_time = config[\"simulation\"][\"simu_circle_time\"] \n",
    "start_time = 0\n",
    "stop_time = 0\n",
    "\n",
    "home_mode = config[\"environment_factors\"][\"home_mode\"]\n",
    "temperature_initial = config[\"environment_factors\"][\"temperature_initial\"]\n",
    "temperature_min = config[\"environment_factors\"][\"temperature_min\"]\n",
    "temperature_max = config[\"environment_factors\"][\"temperature_max\"]\n",
    "humidity_initial = config[\"environment_factors\"][\"humidity_initial\"]        \n",
    "humidity_min = config[\"environment_factors\"][\"humidity_min\"]\n",
    "humidity_max = config[\"environment_factors\"][\"humidity_max\"]\n",
    "odtemperature_initial = config[\"environment_factors\"][\"odtemperature_initial\"]\n",
    "odtemperature_min = config[\"environment_factors\"][\"odtemperature_min\"]\n",
    "odtemperature_max = config[\"environment_factors\"][\"odtemperature_max\"]\n",
    "odhumidity_initial = config[\"environment_factors\"][\"odhumidity_initial\"]        \n",
    "odhumidity_min = config[\"environment_factors\"][\"odhumidity_min\"]\n",
    "odhumidity_max = config[\"environment_factors\"][\"odhumidity_max\"]\n",
    "PolicyThresholdTemperatureMax = int(config[\"environment_factors\"][\"PolicyThresholdTemperatureMax\"])\n",
    "PolicyThresholdTemperatureMin = int(config[\"environment_factors\"][\"PolicyThresholdTemperatureMin\"])\n",
    "PolicyThresholdHumidityMin = int(config[\"environment_factors\"][\"PolicyThresholdHumidityMin\"])\n",
    "PolicyThresholdHumidityMax = int(config[\"environment_factors\"][\"PolicyThresholdHumidityMax\"])\n",
    "\n",
    "# paraList = [vent, window, humidifier, motion, presence, tv, door,\\\n",
    "#                    ac, light, heater, coffeMachine]\n",
    "paraList = ['/Data Store Memory-IDTemperature', '/Data Store Memory-IDRHumidity', \\\n",
    "                 '/Data Store Memory-ODTemperature', '/Data Store Memory-ODRHumidity', \\\n",
    "                 '/Data Store Memory-Vent', '/Data Store Memory-window', \\\n",
    "                 '/Data Store Memory-humidifier', '/Data Store Memory-motion', \\\n",
    "                 '/Data Store Memory-presence', '/Data Store Memory-TV', \\\n",
    "                 '/Data Store Memory-AC', '/Data Store Memory-light', \\\n",
    "                 '/Data Store Memory-heater', '/Data Store Memory-coffeeMachine']        \n",
    "# timestamp = str(round(time.time()))\n",
    "timestamp = str(round(time.time()))\n",
    "realTimestamp = timestamp\n",
    "dict = {}\n",
    "temp_Global_distance = sys.maxsize\n"
   ]
  },
  {
   "cell_type": "code",
   "execution_count": 14,
   "id": "ad494131",
   "metadata": {},
   "outputs": [
    {
     "data": {
      "text/plain": [
       "['../parameters.ini']"
      ]
     },
     "execution_count": 14,
     "metadata": {},
     "output_type": "execute_result"
    }
   ],
   "source": [
    "import configparser\n",
    "config = configparser.ConfigParser()\n",
    "file_path = \"../parameters.ini\"\n",
    "config.read(file_path)"
   ]
  },
  {
   "cell_type": "code",
   "execution_count": 18,
   "id": "eb5ac82a",
   "metadata": {},
   "outputs": [],
   "source": [
    "initial_para_file_list=[]\n",
    "for temp_file in os.listdir(config[\"simulation\"][\"initial_parameters_path\"]):\n",
    "    if temp_file.find('.ini') > -1:\n",
    "        initial_para_file_list.append(temp_file)"
   ]
  },
  {
   "cell_type": "code",
   "execution_count": 19,
   "id": "22b12640",
   "metadata": {},
   "outputs": [
    {
     "data": {
      "text/plain": [
       "['initial_parameters_1_1.ini']"
      ]
     },
     "execution_count": 19,
     "metadata": {},
     "output_type": "execute_result"
    }
   ],
   "source": [
    "initial_para_file_list"
   ]
  },
  {
   "cell_type": "code",
   "execution_count": 20,
   "id": "d5fd799a",
   "metadata": {},
   "outputs": [],
   "source": [
    "initial_para_filename = initial_para_file_list[0]\n",
    "policy_num = initial_para_filename.split('.')[0].split('_')[-2]"
   ]
  },
  {
   "cell_type": "code",
   "execution_count": 35,
   "id": "5518c63f",
   "metadata": {},
   "outputs": [
    {
     "name": "stdout",
     "output_type": "stream",
     "text": [
      "Initial parameters is from initial_parameters/Experiments_used/initial_parameters_1_1.ini\n"
     ]
    }
   ],
   "source": [
    "import time\n",
    "\n",
    "simu_times = 0\n",
    "policy_num = policy_num\n",
    "program_start_time = time.time() \n",
    "\n",
    "for temp_file in os.listdir(config[\"simulation\"][\"initial_parameters_path\"]):\n",
    "    if temp_file.find('.ini') > -1:\n",
    "        initial_parameter_file = config[\"simulation\"][\"initial_parameters_path\"] + \"/\" + initial_para_filename\n",
    "initial_parameter_fileName = initial_para_filename # initial_para filename\n",
    "initial_parameter_config = configure_guide.read_para(initial_parameter_file) # configuration file\n",
    "print(\"Initial parameters is from \" + initial_parameter_file )"
   ]
  },
  {
   "cell_type": "code",
   "execution_count": 38,
   "id": "7f7d9be5",
   "metadata": {},
   "outputs": [
    {
     "name": "stdout",
     "output_type": "stream",
     "text": [
      "1685584714_initial_parameters_1_1_Policy_1\n",
      "Checking Policy 1\n"
     ]
    }
   ],
   "source": [
    "timestamp = realTimestamp + \"_\" + initial_parameter_fileName.split(\".\")[0] + \"_Policy_\" + str(policy_num)\n",
    "policy_str = \"Checking Policy \" + str(policy_num)\n",
    "print(timestamp)\n",
    "print(policy_str)"
   ]
  },
  {
   "cell_type": "code",
   "execution_count": 47,
   "id": "aee056ea",
   "metadata": {},
   "outputs": [
    {
     "name": "stdout",
     "output_type": "stream",
     "text": [
      "Initial value of block /Data Store Memory-IDTemperature is -4\n",
      "Initial value of block /Data Store Memory-IDRHumidity is 47\n",
      "Initial value of block /Data Store Memory-ODTemperature is 0\n",
      "Initial value of block /Data Store Memory-ODRHumidity is 72\n",
      "Initial value of block /Data Store Memory-Vent is 0\n",
      "Initial value of block /Data Store Memory-window is 1\n",
      "Initial value of block /Data Store Memory-humidifier is 0\n",
      "Initial value of block /Data Store Memory-motion is 0\n",
      "Initial value of block /Data Store Memory-presence is 0\n",
      "Initial value of block /Data Store Memory-TV is 1\n",
      "Initial value of block /Data Store Memory-AC is 1\n",
      "Initial value of block /Data Store Memory-light is 0\n",
      "Initial value of block /Data Store Memory-heater is 1\n",
      "Initial value of block /Data Store Memory-coffeeMachine is 0\n"
     ]
    }
   ],
   "source": [
    "current_section = \"initial_parameters_\" + str(policy_num)\n",
    "#  runing_parameters is all item in this section\n",
    "running_parameters = initial_parameter_config.items(current_section)\n",
    "\n",
    "eng = matlab.engine.start_matlab(\"-logfile 'log.txt'\")\n",
    "eng.load_system(modelName)\n",
    "print(\"Loading Simulink model - \" + modelName) \n",
    "\n",
    "for item in running_parameters:\n",
    "    blockName=item[0]\n",
    "    initalValue=item[-1]\n",
    "    eng.set_param(modelName + blockName, 'InitialValue', str(initalValue), nargout=0)\n",
    "    string =  \"Initial value of block \" +  blockName +  \" is \" + str(initalValue)\n",
    "    print(string)"
   ]
  },
  {
   "cell_type": "code",
   "execution_count": 48,
   "id": "c2bac7f8",
   "metadata": {},
   "outputs": [],
   "source": [
    "# def start_stop_time_random(self):\n",
    "#     self.start_time = self.stop_time\n",
    "#     self.stop_time = self.start_time + random.randint(1, int(self.simu_circle_time))\n",
    "\n",
    "\n",
    "start_time = 0\n",
    "stop_time = 0\n",
    "\n",
    "\n"
   ]
  },
  {
   "cell_type": "code",
   "execution_count": 51,
   "id": "83227b3a",
   "metadata": {},
   "outputs": [
    {
     "data": {
      "text/plain": [
       "2880"
      ]
     },
     "execution_count": 51,
     "metadata": {},
     "output_type": "execute_result"
    }
   ],
   "source": [
    "# while\n",
    "\n",
    "int(limit_time) \n"
   ]
  },
  {
   "cell_type": "code",
   "execution_count": 59,
   "id": "0720bc93",
   "metadata": {},
   "outputs": [
    {
     "data": {
      "text/plain": [
       "0"
      ]
     },
     "execution_count": 59,
     "metadata": {},
     "output_type": "execute_result"
    }
   ],
   "source": [
    "simu_times"
   ]
  },
  {
   "cell_type": "code",
   "execution_count": 52,
   "id": "7fe8a334",
   "metadata": {},
   "outputs": [
    {
     "data": {
      "text/plain": [
       "1385.633382320404"
      ]
     },
     "execution_count": 52,
     "metadata": {},
     "output_type": "execute_result"
    }
   ],
   "source": [
    "(time.time() - program_start_time)"
   ]
  },
  {
   "cell_type": "code",
   "execution_count": 57,
   "id": "4a00e7e0",
   "metadata": {},
   "outputs": [],
   "source": [
    "stop_time = start_time + random.randint(1, int(simu_circle_time))"
   ]
  },
  {
   "cell_type": "code",
   "execution_count": null,
   "id": "7dc39dc6",
   "metadata": {},
   "outputs": [],
   "source": [
    "eng.set_param(modelName,'StartTime', str(start_time), nargout=0)\n",
    "eng.set_param(modelName,'StopTime', str(stop_time), nargout=0)"
   ]
  },
  {
   "cell_type": "code",
   "execution_count": 60,
   "id": "aed0d2a0",
   "metadata": {},
   "outputs": [],
   "source": [
    "# if (self.simu_times > 0):\n",
    "#     self.setValueFromLastSimu()\n",
    "# self.simu_times = self.simu_times + 1 \n",
    "simu_times +=1\n"
   ]
  },
  {
   "cell_type": "code",
   "execution_count": null,
   "id": "7092fca9",
   "metadata": {},
   "outputs": [],
   "source": [
    "random_block, random_value = self.randomSelectBlockAndAssign()"
   ]
  },
  {
   "cell_type": "code",
   "execution_count": null,
   "id": "16668238",
   "metadata": {},
   "outputs": [],
   "source": []
  },
  {
   "cell_type": "code",
   "execution_count": 68,
   "id": "f086a8cc",
   "metadata": {},
   "outputs": [],
   "source": [
    "def initialValueAssignOne(blockName, initalValue):\n",
    "    eng.set_param(modelName + blockName, 'InitialValue', str(initalValue), nargout=0)\n",
    "    string =  \"Initial value of block \" +  blockName +  \" is \" + str(initalValue)\n",
    "    print(string)\n",
    "    \n",
    "def initialValueAssign(blockName, minVal, maxVal):\n",
    "    initalValue = random.randint(int(minVal), int(maxVal))\n",
    "    eng.set_param(modelName + blockName, 'InitialValue', str(initalValue), nargout=0)\n",
    "    string =  \"Initial value of block \" +  blockName +  \" is \" + str(initalValue)\n",
    "    # Write log\n",
    "#     writeLog(string)\n",
    "    return str(initalValue)"
   ]
  },
  {
   "cell_type": "code",
   "execution_count": 69,
   "id": "c3b31e99",
   "metadata": {},
   "outputs": [
    {
     "name": "stdout",
     "output_type": "stream",
     "text": [
      "Initial value of block /Data Store Memory-window is 1\n"
     ]
    }
   ],
   "source": [
    "# \n",
    "temp_list = blockConfig[\"first\"][\"block_names\"].split(',')\n",
    "# \n",
    "random_value = random.randint(1, len(temp_list) + 4)\n",
    "random_block = \"\"\n",
    "if (random_value == 1):\n",
    "    mutateValue = initialValueAssign('/Data Store Memory-IDTemperature', temperature_min, temperature_max)\n",
    "    random_block = '/Data Store Memory-IDTemperature'\n",
    "\n",
    "elif (random_value == 2):\n",
    "    mutateValue = initialValueAssign('/Data Store Memory-IDRHumidity', humidity_min, humidity_max)\n",
    "    random_block = '/Data Store Memory-IDRHumidity'\n",
    "\n",
    "elif (random_value == 3):\n",
    "    mutateValue = initialValueAssign('/Data Store Memory-ODTemperature', odtemperature_min, odtemperature_max)\n",
    "    random_block = '/Data Store Memory-ODTemperature'\n",
    "\n",
    "elif (random_value == 4):\n",
    "    mutateValue = initialValueAssign('/Data Store Memory-ODRHumidity', odhumidity_min, odhumidity_max)\n",
    "    random_block = '/Data Store Memory-ODRHumidity'\n",
    "\n",
    "else:\n",
    "    mutateValue = initialValueAssign(temp_list[random_value - 5], 0, 1)\n",
    "    random_block = temp_list[random_value-5]\n",
    "\n",
    "initialValueAssignOne(random_block, mutateValue)"
   ]
  },
  {
   "cell_type": "code",
   "execution_count": 72,
   "id": "cd8a9741",
   "metadata": {},
   "outputs": [
    {
     "name": "stdout",
     "output_type": "stream",
     "text": [
      "\n",
      "Select block parameter: /Data Store Memory-window, and mutate the value: 6\n"
     ]
    }
   ],
   "source": [
    "string_mutate = \"\\nSelect block parameter: \" + str(random_block) + \\\n",
    "                            \", and mutate the value: \" + str(random_value)\n",
    "print(string_mutate)"
   ]
  },
  {
   "cell_type": "code",
   "execution_count": 73,
   "id": "70a982b9",
   "metadata": {},
   "outputs": [],
   "source": [
    "def secondsToMintuesHours(total_second):\n",
    "    hour = total_second // 3600\n",
    "    minute = total_second // 60 % 60\n",
    "    second = total_second % 60\n",
    "    return int(hour), int(minute), int(second)"
   ]
  },
  {
   "cell_type": "code",
   "execution_count": 74,
   "id": "f7e62d92",
   "metadata": {},
   "outputs": [
    {
     "name": "stdout",
     "output_type": "stream",
     "text": [
      "No guide simulation 1 time \n",
      "This guide simulation starts 0, and ends in 861\n",
      "Main program has simulated: 0 hours 59 minutes, 0, seconds\n"
     ]
    }
   ],
   "source": [
    "hour, minute, second = secondsToMintuesHours((time.time() - program_start_time))\n",
    "\n",
    "program_info = \"No guide simulation \" + str(simu_times) + \" time \\n\" + \\\n",
    "                           \"This guide simulation starts \" + str(start_time) + \", and ends in \" + str(stop_time) + \"\\n\" + \\\n",
    "                           \"Main program has simulated: \" + str(hour) + \" hours \" + str(minute) + \" minutes, \" + str(second) + \", seconds\"\n",
    "print(program_info)"
   ]
  },
  {
   "cell_type": "code",
   "execution_count": 75,
   "id": "1f08dff4",
   "metadata": {},
   "outputs": [],
   "source": [
    "eng.set_param(modelName,'SimulationCommand','start','SimulationCommand','pause',nargout=0)"
   ]
  },
  {
   "cell_type": "code",
   "execution_count": 76,
   "id": "62140a42",
   "metadata": {},
   "outputs": [],
   "source": [
    "def getHistory(var_name):\n",
    "    # Helper Function to get History, \n",
    "    # Here cannot get workspace, only use eval to get\n",
    "    # mlarry type is not resoleved. here change to ndarry\n",
    "    # size is 2\n",
    "    # out = self.eng.workspace['out']\n",
    "    return np.asarray(eng.eval(var_name))"
   ]
  },
  {
   "cell_type": "code",
   "execution_count": 77,
   "id": "af1eb81b",
   "metadata": {},
   "outputs": [],
   "source": [
    "# while\n",
    "eng.set_param(modelName,'SimulationCommand','continue','SimulationCommand','pause',nargout=0)\n",
    "TimeStep = getHistory('out.TimeStep')\n",
    "IDTemperature = getHistory('out.IDTemperature')\n",
    "ODTemperature = getHistory('out.ODTemperature')\n",
    "IDRHumidity = getHistory('out.IDRHumidity')\n",
    "ODRHumidity = getHistory('out.ODRHumidity')\n",
    "HomeMode = getHistory('out.HomeMode')\n",
    "Heater = getHistory('out.Heater')\n",
    "AC = getHistory('out.AC')\n",
    "Window = getHistory('out.Window')\n",
    "Light = getHistory('out.Light')\n",
    "Door = getHistory('out.Door')\n",
    "Motion = getHistory('out.Motion')\n",
    "Presence = getHistory('out.Presence')\n",
    "Vent = getHistory('out.Vent')\n",
    "Humidifier = getHistory('out.Humidifier')\n",
    "TV = getHistory('out.TV')\n",
    "CoffeeMachine = getHistory('out.CoffeeMachine')\n"
   ]
  },
  {
   "cell_type": "code",
   "execution_count": null,
   "id": "41bb1ea9",
   "metadata": {},
   "outputs": [],
   "source": []
  },
  {
   "cell_type": "code",
   "execution_count": null,
   "id": "10c49f4c",
   "metadata": {},
   "outputs": [],
   "source": []
  },
  {
   "cell_type": "code",
   "execution_count": null,
   "id": "f77f49f2",
   "metadata": {},
   "outputs": [],
   "source": []
  },
  {
   "cell_type": "code",
   "execution_count": null,
   "id": "d14ae7ef",
   "metadata": {},
   "outputs": [],
   "source": []
  },
  {
   "cell_type": "code",
   "execution_count": null,
   "id": "523fa73c",
   "metadata": {},
   "outputs": [],
   "source": []
  },
  {
   "cell_type": "code",
   "execution_count": null,
   "id": "02266ab9",
   "metadata": {},
   "outputs": [],
   "source": []
  },
  {
   "cell_type": "code",
   "execution_count": null,
   "id": "c8eba8f5",
   "metadata": {},
   "outputs": [],
   "source": []
  },
  {
   "cell_type": "code",
   "execution_count": null,
   "id": "883ca00a",
   "metadata": {},
   "outputs": [],
   "source": []
  },
  {
   "cell_type": "code",
   "execution_count": null,
   "id": "24905fb2",
   "metadata": {},
   "outputs": [],
   "source": []
  },
  {
   "cell_type": "code",
   "execution_count": null,
   "id": "e8dff8b1",
   "metadata": {},
   "outputs": [],
   "source": []
  }
 ],
 "metadata": {
  "kernelspec": {
   "display_name": "Python 3 (ipykernel)",
   "language": "python",
   "name": "python3"
  },
  "language_info": {
   "codemirror_mode": {
    "name": "ipython",
    "version": 3
   },
   "file_extension": ".py",
   "mimetype": "text/x-python",
   "name": "python",
   "nbconvert_exporter": "python",
   "pygments_lexer": "ipython3",
   "version": "3.8.16"
  }
 },
 "nbformat": 4,
 "nbformat_minor": 5
}
